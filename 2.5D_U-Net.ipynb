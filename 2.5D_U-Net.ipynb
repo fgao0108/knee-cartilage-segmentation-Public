{
 "cells": [
  {
   "cell_type": "markdown",
   "id": "b6c740b5-f995-46ad-9cf3-987752b01740",
   "metadata": {},
   "source": [
    "## U-Net Training"
   ]
  },
  {
   "cell_type": "code",
   "execution_count": 1,
   "id": "13c87e9f-5702-45d7-ba31-5cd9941a71ec",
   "metadata": {},
   "outputs": [],
   "source": [
    "import os\n",
    "import numpy as np\n",
    "from PIL import Image\n",
    "import torch\n",
    "from torch.utils.data import Dataset, DataLoader\n",
    "import torch.nn.functional as F\n",
    "\n",
    "class KneeSegmentation25D(Dataset):\n",
    "    def __init__(self, image_dir, mask_dir, filenames):\n",
    "        self.image_dir = image_dir\n",
    "        self.mask_dir = mask_dir\n",
    "        self.filenames = sorted(filenames)\n",
    "\n",
    "    def __len__(self):\n",
    "        return len(self.filenames)\n",
    "\n",
    "    def pad_to_shape(self, img_np, target_shape):\n",
    "        pad_height = target_shape[0] - img_np.shape[0]\n",
    "        pad_width = target_shape[1] - img_np.shape[1]\n",
    "        pad_top = pad_height // 2\n",
    "        pad_bottom = pad_height - pad_top\n",
    "        pad_left = pad_width // 2\n",
    "        pad_right = pad_width - pad_left\n",
    "        return np.pad(img_np, ((pad_top, pad_bottom), (pad_left, pad_right)), mode=\"constant\")\n",
    "\n",
    "    def __getitem__(self, idx):\n",
    "        filename = self.filenames[idx]\n",
    "        study_id, slice_tag = filename.replace(\".jpg\", \"\").split(\"_slice_\")\n",
    "        slice_num = int(slice_tag)\n",
    "\n",
    "        stack = []\n",
    "        shapes = []\n",
    "        for offset in [-1, 0, 1]:\n",
    "            n = slice_num + offset\n",
    "            neighbor_file = f\"{study_id}_slice_{n:03d}.jpg\"\n",
    "            neighbor_path = os.path.join(self.image_dir, neighbor_file)\n",
    "            if os.path.exists(neighbor_path):\n",
    "                img = Image.open(neighbor_path).convert(\"L\")\n",
    "            else:\n",
    "                img = Image.open(os.path.join(self.image_dir, filename)).convert(\"L\")\n",
    "\n",
    "            img_np = np.array(img, dtype=np.float32) / 255.0\n",
    "            stack.append(img_np)\n",
    "            shapes.append(img_np.shape)\n",
    "\n",
    "        max_shape = np.max(shapes, axis=0)\n",
    "        stack = [self.pad_to_shape(s, max_shape) for s in stack]\n",
    "        image = np.stack(stack, axis=0)\n",
    "\n",
    "        mask_path = os.path.join(self.mask_dir, study_id, filename.replace(\".jpg\", \".npy\"))\n",
    "        mask = np.load(mask_path).astype(np.int64)\n",
    "        mask = self.pad_to_shape(mask, max_shape)\n",
    "\n",
    "        return torch.tensor(image, dtype=torch.float32), torch.tensor(mask, dtype=torch.long)\n",
    "\n",
    "# Batch padding to SMP-required divisible-by-32 sizes\n",
    "def pad_batch_to_32(batch):\n",
    "    images, masks = zip(*batch)\n",
    "    h = max(img.shape[1] for img in images)\n",
    "    w = max(img.shape[2] for img in images)\n",
    "    def ceil32(x): return ((x + 31) // 32) * 32\n",
    "    H, W = ceil32(h), ceil32(w)\n",
    "\n",
    "    padded_imgs, padded_masks = [], []\n",
    "    for img, mask in zip(images, masks):\n",
    "        pad = (0, W - img.shape[2], 0, H - img.shape[1])\n",
    "        padded_imgs.append(F.pad(img, pad))\n",
    "        padded_masks.append(F.pad(mask, pad))\n",
    "\n",
    "    return torch.stack(padded_imgs), torch.stack(padded_masks)"
   ]
  },
  {
   "cell_type": "code",
   "execution_count": 2,
   "id": "d6cc8d9e-916b-4440-972e-fabd30a9caed",
   "metadata": {},
   "outputs": [],
   "source": [
    "import segmentation_models_pytorch as smp\n",
    "import torch.nn as nn\n",
    "import torch.optim as optim\n",
    "\n",
    "device = torch.device(\"cuda\" if torch.cuda.is_available() else \"cpu\")\n",
    "\n",
    "model = smp.Unet(\n",
    "    encoder_name=\"resnet34\",\n",
    "    encoder_weights=\"imagenet\",\n",
    "    in_channels=3,\n",
    "    classes=5\n",
    ").to(device)\n",
    "\n",
    "loss_fn = nn.CrossEntropyLoss()\n",
    "optimizer = optim.Adam(model.parameters(), lr=1e-4)"
   ]
  },
  {
   "cell_type": "code",
   "execution_count": 3,
   "id": "bd127278-71a7-4db4-b67f-2301f36a9a7c",
   "metadata": {},
   "outputs": [
    {
     "name": "stdout",
     "output_type": "stream",
     "text": [
      "Train: 19702 | Val: 2463 | Test: 2463\n",
      "✅ Saved split info to: /data_vault/hexai/OAICartilage/knee_split.pkl\n"
     ]
    }
   ],
   "source": [
    "from sklearn.model_selection import train_test_split\n",
    "import pickle\n",
    "\n",
    "image_dir = \"/data_vault/hexai/OAICartilage/image_manual_crops\"\n",
    "mask_dir = \"/data_vault/hexai/OAICartilage/cropped_annotations_numpy\"\n",
    "all_files = [f for f in os.listdir(image_dir) if f.endswith(\".jpg\")]\n",
    "\n",
    "# Split: 80% train, 10% val, 10% test\n",
    "train_f, temp_f = train_test_split(all_files, test_size=0.2, random_state=42)\n",
    "val_f, test_f = train_test_split(temp_f, test_size=0.5, random_state=42)\n",
    "\n",
    "print(f\"Train: {len(train_f)} | Val: {len(val_f)} | Test: {len(test_f)}\")\n",
    "\n",
    "train_ds = KneeSegmentation25D(image_dir, mask_dir, train_f)\n",
    "val_ds = KneeSegmentation25D(image_dir, mask_dir, val_f)\n",
    "test_ds = KneeSegmentation25D(image_dir, mask_dir, test_f)\n",
    "\n",
    "train_loader = DataLoader(train_ds, batch_size=8, shuffle=True, collate_fn=pad_batch_to_32, num_workers=4)\n",
    "val_loader = DataLoader(val_ds, batch_size=8, collate_fn=pad_batch_to_32, num_workers=4)\n",
    "test_loader = DataLoader(test_ds, batch_size=8, shuffle=False, collate_fn=pad_batch_to_32, num_workers=4)\n",
    "\n",
    "# Save split to a pickle file\n",
    "split_save_path = \"/data_vault/hexai/OAICartilage/knee_split.pkl\"\n",
    "with open(split_save_path, \"wb\") as f:\n",
    "    pickle.dump({\n",
    "        \"train\": train_f,\n",
    "        \"val\": val_f,\n",
    "        \"test\": test_f\n",
    "    }, f)\n",
    "\n",
    "print(f\"✅ Saved split info to: {split_save_path}\")"
   ]
  },
  {
   "cell_type": "code",
   "execution_count": 4,
   "id": "823204e1-6bc3-4cd9-b057-bf68f7e462d5",
   "metadata": {},
   "outputs": [],
   "source": [
    "from tqdm import tqdm\n",
    "import csv\n",
    "\n",
    "def iou_score(pred, target, num_classes=5):\n",
    "    ious = []\n",
    "    for cls in range(1, num_classes):  # skip background\n",
    "        pred_cls = (pred == cls)\n",
    "        target_cls = (target == cls)\n",
    "        intersection = (pred_cls & target_cls).sum().item()\n",
    "        union = (pred_cls | target_cls).sum().item()\n",
    "        ious.append(intersection / union if union != 0 else 1.0)\n",
    "    return np.mean(ious)\n",
    "\n",
    "# [Modified] Added validation loss calculation, per-epoch metrics logging, and CSV export by Fengyi\n",
    "def train_model(epochs=15, save_path=\"/home/feg48/2.5D_seg/best_model.pth\", log_csv_path=\"/home/feg48/2.5D_seg/training_log.csv\"): \n",
    "    best_iou = 0.0\n",
    "    metrics_log = []  # Added To store training/validation metrics for logging by Fengyi\n",
    "\n",
    "    for epoch in range(epochs):\n",
    "        model.train()\n",
    "        total_loss = 0\n",
    "        train_ious = []    # Added Collect per-image IoU scores for training by Fengyi\n",
    "\n",
    "        print(f\"\\n Epoch {epoch+1} started...\")\n",
    "\n",
    "        for x, y in tqdm(train_loader):\n",
    "            x, y = x.to(device), y.to(device)\n",
    "            optimizer.zero_grad()\n",
    "            preds = model(x)\n",
    "            loss = loss_fn(preds, y)\n",
    "            loss.backward()\n",
    "            optimizer.step()\n",
    "            total_loss += loss.item()\n",
    "\n",
    "            # Added Compute training IoU for each image in the batch by Fengyi\n",
    "            pred_labels = torch.argmax(preds, dim=1)\n",
    "            for p, t in zip(pred_labels, y):\n",
    "                train_ious.append(iou_score(p.cpu(), t.cpu()))\n",
    "\n",
    "        avg_train_loss = total_loss / len(train_loader)\n",
    "        mean_train_iou = np.mean(train_ious)\n",
    "        print(f\"[Epoch {epoch+1}] Train Loss: {avg_train_loss:.4f}, Train IoU: {mean_train_iou:.4f}\")\n",
    "\n",
    "        # Validation\n",
    "        # Added Validation loss and IoU computation by Fengyi\n",
    "        model.eval()\n",
    "        val_loss = 0\n",
    "        val_ious = []\n",
    "        with torch.no_grad():\n",
    "            for x, y in val_loader:\n",
    "                x, y = x.to(device), y.to(device)\n",
    "                out = model(x)\n",
    "                loss = loss_fn(out, y)    # Added by Fengyi\n",
    "                val_loss += loss.item()   # Added by Fengyi\n",
    "                pred = torch.argmax(out, dim=1)\n",
    "                for p, t in zip(pred, y):\n",
    "                    val_ious.append(iou_score(p.cpu(), t.cpu()))\n",
    "\n",
    "        avg_val_loss = val_loss / len(val_loader)   # Added by Fengyi\n",
    "        mean_val_iou = np.mean(val_ious)\n",
    "        print(f\"[Epoch {epoch+1}] Val Loss: {avg_val_loss:.4f}, Val IoU: {mean_val_iou:.4f}\")\n",
    "\n",
    "        # Save best model\n",
    "        if mean_val_iou > best_iou:\n",
    "            best_iou = mean_val_iou\n",
    "            torch.save(model.state_dict(), save_path)\n",
    "            print(f\" ✅ Saved best model at Epoch {epoch+1} with IoU={mean_val_iou:.4f}\")\n",
    "\n",
    "        # Append metrics for CSV logging, Added by Fengyi\n",
    "        metrics_log.append({\n",
    "            \"epoch\": epoch + 1,\n",
    "            \"train_loss\": avg_train_loss,\n",
    "            \"train_iou\": mean_train_iou,\n",
    "            \"val_loss\": avg_val_loss,\n",
    "            \"val_iou\": mean_val_iou\n",
    "        })\n",
    "\n",
    "    print(f\"\\nTraining finished. Best IoU: {best_iou:.4f}\")\n",
    "\n",
    "    # Save metrics to CSV, Added by Fengyi\n",
    "    with open(log_csv_path, mode=\"w\", newline=\"\") as f:\n",
    "        writer = csv.DictWriter(f, fieldnames=[\"epoch\", \"train_loss\", \"train_iou\", \"val_loss\", \"val_iou\"])\n",
    "        writer.writeheader()\n",
    "        for row in metrics_log:\n",
    "            writer.writerow(row)\n",
    "    print(f\"Training metrics saved to: {log_csv_path}\")"
   ]
  },
  {
   "cell_type": "code",
   "execution_count": 5,
   "id": "f2c94110-0e46-4aef-bcb8-f927637ac6d0",
   "metadata": {
    "scrolled": true
   },
   "outputs": [
    {
     "name": "stdout",
     "output_type": "stream",
     "text": [
      "\n",
      " Epoch 1 started...\n"
     ]
    },
    {
     "name": "stderr",
     "output_type": "stream",
     "text": [
      "100%|█████████████████████████████| 2463/2463 [03:07<00:00, 13.15it/s]"
     ]
    },
    {
     "name": "stdout",
     "output_type": "stream",
     "text": [
      " [Epoch 1] Avg Training Loss: 0.1276\n"
     ]
    },
    {
     "name": "stderr",
     "output_type": "stream",
     "text": [
      "\n"
     ]
    },
    {
     "name": "stdout",
     "output_type": "stream",
     "text": [
      "[Epoch 1] Validation IoU: 0.7314\n",
      " ✅ Saved best model at Epoch 1 with IoU=0.7314\n",
      "\n",
      " Epoch 2 started...\n"
     ]
    },
    {
     "name": "stderr",
     "output_type": "stream",
     "text": [
      "100%|█████████████████████████████| 2463/2463 [02:44<00:00, 15.01it/s]"
     ]
    },
    {
     "name": "stdout",
     "output_type": "stream",
     "text": [
      " [Epoch 2] Avg Training Loss: 0.0348\n"
     ]
    },
    {
     "name": "stderr",
     "output_type": "stream",
     "text": [
      "\n"
     ]
    },
    {
     "name": "stdout",
     "output_type": "stream",
     "text": [
      "[Epoch 2] Validation IoU: 0.7381\n",
      " ✅ Saved best model at Epoch 2 with IoU=0.7381\n",
      "\n",
      " Epoch 3 started...\n"
     ]
    },
    {
     "name": "stderr",
     "output_type": "stream",
     "text": [
      "100%|█████████████████████████████| 2463/2463 [02:48<00:00, 14.59it/s]"
     ]
    },
    {
     "name": "stdout",
     "output_type": "stream",
     "text": [
      " [Epoch 3] Avg Training Loss: 0.0306\n"
     ]
    },
    {
     "name": "stderr",
     "output_type": "stream",
     "text": [
      "\n"
     ]
    },
    {
     "name": "stdout",
     "output_type": "stream",
     "text": [
      "[Epoch 3] Validation IoU: 0.6938\n",
      "\n",
      " Epoch 4 started...\n"
     ]
    },
    {
     "name": "stderr",
     "output_type": "stream",
     "text": [
      "100%|█████████████████████████████| 2463/2463 [02:53<00:00, 14.22it/s]"
     ]
    },
    {
     "name": "stdout",
     "output_type": "stream",
     "text": [
      " [Epoch 4] Avg Training Loss: 0.0276\n"
     ]
    },
    {
     "name": "stderr",
     "output_type": "stream",
     "text": [
      "\n"
     ]
    },
    {
     "name": "stdout",
     "output_type": "stream",
     "text": [
      "[Epoch 4] Validation IoU: 0.7613\n",
      " ✅ Saved best model at Epoch 4 with IoU=0.7613\n",
      "\n",
      " Epoch 5 started...\n"
     ]
    },
    {
     "name": "stderr",
     "output_type": "stream",
     "text": [
      "100%|█████████████████████████████| 2463/2463 [02:54<00:00, 14.13it/s]"
     ]
    },
    {
     "name": "stdout",
     "output_type": "stream",
     "text": [
      " [Epoch 5] Avg Training Loss: 0.0255\n"
     ]
    },
    {
     "name": "stderr",
     "output_type": "stream",
     "text": [
      "\n"
     ]
    },
    {
     "name": "stdout",
     "output_type": "stream",
     "text": [
      "[Epoch 5] Validation IoU: 0.7700\n",
      " ✅ Saved best model at Epoch 5 with IoU=0.7700\n",
      "\n",
      " Epoch 6 started...\n"
     ]
    },
    {
     "name": "stderr",
     "output_type": "stream",
     "text": [
      "100%|█████████████████████████████| 2463/2463 [02:53<00:00, 14.16it/s]"
     ]
    },
    {
     "name": "stdout",
     "output_type": "stream",
     "text": [
      " [Epoch 6] Avg Training Loss: 0.0238\n"
     ]
    },
    {
     "name": "stderr",
     "output_type": "stream",
     "text": [
      "\n"
     ]
    },
    {
     "name": "stdout",
     "output_type": "stream",
     "text": [
      "[Epoch 6] Validation IoU: 0.7743\n",
      " ✅ Saved best model at Epoch 6 with IoU=0.7743\n",
      "\n",
      " Epoch 7 started...\n"
     ]
    },
    {
     "name": "stderr",
     "output_type": "stream",
     "text": [
      "100%|█████████████████████████████| 2463/2463 [02:52<00:00, 14.32it/s]"
     ]
    },
    {
     "name": "stdout",
     "output_type": "stream",
     "text": [
      " [Epoch 7] Avg Training Loss: 0.0224\n"
     ]
    },
    {
     "name": "stderr",
     "output_type": "stream",
     "text": [
      "\n"
     ]
    },
    {
     "name": "stdout",
     "output_type": "stream",
     "text": [
      "[Epoch 7] Validation IoU: 0.7816\n",
      " ✅ Saved best model at Epoch 7 with IoU=0.7816\n",
      "\n",
      " Epoch 8 started...\n"
     ]
    },
    {
     "name": "stderr",
     "output_type": "stream",
     "text": [
      "100%|█████████████████████████████| 2463/2463 [02:52<00:00, 14.28it/s]"
     ]
    },
    {
     "name": "stdout",
     "output_type": "stream",
     "text": [
      " [Epoch 8] Avg Training Loss: 0.0213\n"
     ]
    },
    {
     "name": "stderr",
     "output_type": "stream",
     "text": [
      "\n"
     ]
    },
    {
     "name": "stdout",
     "output_type": "stream",
     "text": [
      "[Epoch 8] Validation IoU: 0.7839\n",
      " ✅ Saved best model at Epoch 8 with IoU=0.7839\n",
      "\n",
      " Epoch 9 started...\n"
     ]
    },
    {
     "name": "stderr",
     "output_type": "stream",
     "text": [
      "100%|█████████████████████████████| 2463/2463 [02:54<00:00, 14.13it/s]"
     ]
    },
    {
     "name": "stdout",
     "output_type": "stream",
     "text": [
      " [Epoch 9] Avg Training Loss: 0.0204\n"
     ]
    },
    {
     "name": "stderr",
     "output_type": "stream",
     "text": [
      "\n"
     ]
    },
    {
     "name": "stdout",
     "output_type": "stream",
     "text": [
      "[Epoch 9] Validation IoU: 0.7899\n",
      " ✅ Saved best model at Epoch 9 with IoU=0.7899\n",
      "\n",
      " Epoch 10 started...\n"
     ]
    },
    {
     "name": "stderr",
     "output_type": "stream",
     "text": [
      "100%|█████████████████████████████| 2463/2463 [03:23<00:00, 12.10it/s]"
     ]
    },
    {
     "name": "stdout",
     "output_type": "stream",
     "text": [
      " [Epoch 10] Avg Training Loss: 0.0193\n"
     ]
    },
    {
     "name": "stderr",
     "output_type": "stream",
     "text": [
      "\n"
     ]
    },
    {
     "name": "stdout",
     "output_type": "stream",
     "text": [
      "[Epoch 10] Validation IoU: 0.7821\n",
      "\n",
      " Epoch 11 started...\n"
     ]
    },
    {
     "name": "stderr",
     "output_type": "stream",
     "text": [
      "100%|█████████████████████████████| 2463/2463 [03:35<00:00, 11.44it/s]"
     ]
    },
    {
     "name": "stdout",
     "output_type": "stream",
     "text": [
      " [Epoch 11] Avg Training Loss: 0.0186\n"
     ]
    },
    {
     "name": "stderr",
     "output_type": "stream",
     "text": [
      "\n"
     ]
    },
    {
     "name": "stdout",
     "output_type": "stream",
     "text": [
      "[Epoch 11] Validation IoU: 0.7946\n",
      " ✅ Saved best model at Epoch 11 with IoU=0.7946\n",
      "\n",
      " Epoch 12 started...\n"
     ]
    },
    {
     "name": "stderr",
     "output_type": "stream",
     "text": [
      "100%|█████████████████████████████| 2463/2463 [03:36<00:00, 11.40it/s]"
     ]
    },
    {
     "name": "stdout",
     "output_type": "stream",
     "text": [
      " [Epoch 12] Avg Training Loss: 0.0176\n"
     ]
    },
    {
     "name": "stderr",
     "output_type": "stream",
     "text": [
      "\n"
     ]
    },
    {
     "name": "stdout",
     "output_type": "stream",
     "text": [
      "[Epoch 12] Validation IoU: 0.7968\n",
      " ✅ Saved best model at Epoch 12 with IoU=0.7968\n",
      "\n",
      " Epoch 13 started...\n"
     ]
    },
    {
     "name": "stderr",
     "output_type": "stream",
     "text": [
      "100%|█████████████████████████████| 2463/2463 [03:20<00:00, 12.29it/s]"
     ]
    },
    {
     "name": "stdout",
     "output_type": "stream",
     "text": [
      " [Epoch 13] Avg Training Loss: 0.0169\n"
     ]
    },
    {
     "name": "stderr",
     "output_type": "stream",
     "text": [
      "\n"
     ]
    },
    {
     "name": "stdout",
     "output_type": "stream",
     "text": [
      "[Epoch 13] Validation IoU: 0.7993\n",
      " ✅ Saved best model at Epoch 13 with IoU=0.7993\n",
      "\n",
      " Epoch 14 started...\n"
     ]
    },
    {
     "name": "stderr",
     "output_type": "stream",
     "text": [
      "100%|█████████████████████████████| 2463/2463 [03:15<00:00, 12.58it/s]"
     ]
    },
    {
     "name": "stdout",
     "output_type": "stream",
     "text": [
      " [Epoch 14] Avg Training Loss: 0.0161\n"
     ]
    },
    {
     "name": "stderr",
     "output_type": "stream",
     "text": [
      "\n"
     ]
    },
    {
     "name": "stdout",
     "output_type": "stream",
     "text": [
      "[Epoch 14] Validation IoU: 0.8001\n",
      " ✅ Saved best model at Epoch 14 with IoU=0.8001\n",
      "\n",
      " Epoch 15 started...\n"
     ]
    },
    {
     "name": "stderr",
     "output_type": "stream",
     "text": [
      "100%|█████████████████████████████| 2463/2463 [03:14<00:00, 12.68it/s]"
     ]
    },
    {
     "name": "stdout",
     "output_type": "stream",
     "text": [
      " [Epoch 15] Avg Training Loss: 0.0155\n"
     ]
    },
    {
     "name": "stderr",
     "output_type": "stream",
     "text": [
      "\n"
     ]
    },
    {
     "name": "stdout",
     "output_type": "stream",
     "text": [
      "[Epoch 15] Validation IoU: 0.7995\n",
      "\n",
      " Epoch 16 started...\n"
     ]
    },
    {
     "name": "stderr",
     "output_type": "stream",
     "text": [
      "100%|█████████████████████████████| 2463/2463 [03:12<00:00, 12.80it/s]"
     ]
    },
    {
     "name": "stdout",
     "output_type": "stream",
     "text": [
      " [Epoch 16] Avg Training Loss: 0.0148\n"
     ]
    },
    {
     "name": "stderr",
     "output_type": "stream",
     "text": [
      "\n"
     ]
    },
    {
     "name": "stdout",
     "output_type": "stream",
     "text": [
      "[Epoch 16] Validation IoU: 0.7981\n",
      "\n",
      " Epoch 17 started...\n"
     ]
    },
    {
     "name": "stderr",
     "output_type": "stream",
     "text": [
      "100%|█████████████████████████████| 2463/2463 [03:15<00:00, 12.57it/s]"
     ]
    },
    {
     "name": "stdout",
     "output_type": "stream",
     "text": [
      " [Epoch 17] Avg Training Loss: 0.0146\n"
     ]
    },
    {
     "name": "stderr",
     "output_type": "stream",
     "text": [
      "\n"
     ]
    },
    {
     "name": "stdout",
     "output_type": "stream",
     "text": [
      "[Epoch 17] Validation IoU: 0.8034\n",
      " ✅ Saved best model at Epoch 17 with IoU=0.8034\n",
      "\n",
      " Epoch 18 started...\n"
     ]
    },
    {
     "name": "stderr",
     "output_type": "stream",
     "text": [
      "100%|█████████████████████████████| 2463/2463 [03:11<00:00, 12.84it/s]"
     ]
    },
    {
     "name": "stdout",
     "output_type": "stream",
     "text": [
      " [Epoch 18] Avg Training Loss: 0.0137\n"
     ]
    },
    {
     "name": "stderr",
     "output_type": "stream",
     "text": [
      "\n"
     ]
    },
    {
     "name": "stdout",
     "output_type": "stream",
     "text": [
      "[Epoch 18] Validation IoU: 0.8007\n",
      "\n",
      " Epoch 19 started...\n"
     ]
    },
    {
     "name": "stderr",
     "output_type": "stream",
     "text": [
      "100%|█████████████████████████████| 2463/2463 [03:13<00:00, 12.75it/s]"
     ]
    },
    {
     "name": "stdout",
     "output_type": "stream",
     "text": [
      " [Epoch 19] Avg Training Loss: 0.0133\n"
     ]
    },
    {
     "name": "stderr",
     "output_type": "stream",
     "text": [
      "\n"
     ]
    },
    {
     "name": "stdout",
     "output_type": "stream",
     "text": [
      "[Epoch 19] Validation IoU: 0.8000\n",
      "\n",
      " Epoch 20 started...\n"
     ]
    },
    {
     "name": "stderr",
     "output_type": "stream",
     "text": [
      "100%|█████████████████████████████| 2463/2463 [03:13<00:00, 12.75it/s]"
     ]
    },
    {
     "name": "stdout",
     "output_type": "stream",
     "text": [
      " [Epoch 20] Avg Training Loss: 0.0129\n"
     ]
    },
    {
     "name": "stderr",
     "output_type": "stream",
     "text": [
      "\n"
     ]
    },
    {
     "name": "stdout",
     "output_type": "stream",
     "text": [
      "[Epoch 20] Validation IoU: 0.8000\n",
      "\n",
      " Epoch 21 started...\n"
     ]
    },
    {
     "name": "stderr",
     "output_type": "stream",
     "text": [
      "100%|█████████████████████████████| 2463/2463 [03:13<00:00, 12.71it/s]"
     ]
    },
    {
     "name": "stdout",
     "output_type": "stream",
     "text": [
      " [Epoch 21] Avg Training Loss: 0.0125\n"
     ]
    },
    {
     "name": "stderr",
     "output_type": "stream",
     "text": [
      "\n"
     ]
    },
    {
     "name": "stdout",
     "output_type": "stream",
     "text": [
      "[Epoch 21] Validation IoU: 0.7998\n",
      "\n",
      " Epoch 22 started...\n"
     ]
    },
    {
     "name": "stderr",
     "output_type": "stream",
     "text": [
      "100%|█████████████████████████████| 2463/2463 [03:13<00:00, 12.72it/s]"
     ]
    },
    {
     "name": "stdout",
     "output_type": "stream",
     "text": [
      " [Epoch 22] Avg Training Loss: 0.0121\n"
     ]
    },
    {
     "name": "stderr",
     "output_type": "stream",
     "text": [
      "\n"
     ]
    },
    {
     "name": "stdout",
     "output_type": "stream",
     "text": [
      "[Epoch 22] Validation IoU: 0.8020\n",
      "\n",
      " Epoch 23 started...\n"
     ]
    },
    {
     "name": "stderr",
     "output_type": "stream",
     "text": [
      "100%|█████████████████████████████| 2463/2463 [03:12<00:00, 12.79it/s]"
     ]
    },
    {
     "name": "stdout",
     "output_type": "stream",
     "text": [
      " [Epoch 23] Avg Training Loss: 0.0117\n"
     ]
    },
    {
     "name": "stderr",
     "output_type": "stream",
     "text": [
      "\n"
     ]
    },
    {
     "name": "stdout",
     "output_type": "stream",
     "text": [
      "[Epoch 23] Validation IoU: 0.7997\n",
      "\n",
      " Epoch 24 started...\n"
     ]
    },
    {
     "name": "stderr",
     "output_type": "stream",
     "text": [
      "100%|█████████████████████████████| 2463/2463 [03:15<00:00, 12.59it/s]"
     ]
    },
    {
     "name": "stdout",
     "output_type": "stream",
     "text": [
      " [Epoch 24] Avg Training Loss: 0.0115\n"
     ]
    },
    {
     "name": "stderr",
     "output_type": "stream",
     "text": [
      "\n"
     ]
    },
    {
     "name": "stdout",
     "output_type": "stream",
     "text": [
      "[Epoch 24] Validation IoU: 0.8024\n",
      "\n",
      " Epoch 25 started...\n"
     ]
    },
    {
     "name": "stderr",
     "output_type": "stream",
     "text": [
      "100%|█████████████████████████████| 2463/2463 [03:17<00:00, 12.48it/s]"
     ]
    },
    {
     "name": "stdout",
     "output_type": "stream",
     "text": [
      " [Epoch 25] Avg Training Loss: 0.0111\n"
     ]
    },
    {
     "name": "stderr",
     "output_type": "stream",
     "text": [
      "\n"
     ]
    },
    {
     "name": "stdout",
     "output_type": "stream",
     "text": [
      "[Epoch 25] Validation IoU: 0.8010\n",
      "\n",
      " Epoch 26 started...\n"
     ]
    },
    {
     "name": "stderr",
     "output_type": "stream",
     "text": [
      "100%|█████████████████████████████| 2463/2463 [03:20<00:00, 12.26it/s]"
     ]
    },
    {
     "name": "stdout",
     "output_type": "stream",
     "text": [
      " [Epoch 26] Avg Training Loss: 0.0108\n"
     ]
    },
    {
     "name": "stderr",
     "output_type": "stream",
     "text": [
      "\n"
     ]
    },
    {
     "name": "stdout",
     "output_type": "stream",
     "text": [
      "[Epoch 26] Validation IoU: 0.8022\n",
      "\n",
      " Epoch 27 started...\n"
     ]
    },
    {
     "name": "stderr",
     "output_type": "stream",
     "text": [
      "100%|█████████████████████████████| 2463/2463 [03:13<00:00, 12.76it/s]"
     ]
    },
    {
     "name": "stdout",
     "output_type": "stream",
     "text": [
      " [Epoch 27] Avg Training Loss: 0.0106\n"
     ]
    },
    {
     "name": "stderr",
     "output_type": "stream",
     "text": [
      "\n"
     ]
    },
    {
     "name": "stdout",
     "output_type": "stream",
     "text": [
      "[Epoch 27] Validation IoU: 0.8029\n",
      "\n",
      " Epoch 28 started...\n"
     ]
    },
    {
     "name": "stderr",
     "output_type": "stream",
     "text": [
      "100%|█████████████████████████████| 2463/2463 [03:15<00:00, 12.63it/s]"
     ]
    },
    {
     "name": "stdout",
     "output_type": "stream",
     "text": [
      " [Epoch 28] Avg Training Loss: 0.0103\n"
     ]
    },
    {
     "name": "stderr",
     "output_type": "stream",
     "text": [
      "\n"
     ]
    },
    {
     "name": "stdout",
     "output_type": "stream",
     "text": [
      "[Epoch 28] Validation IoU: 0.8002\n",
      "\n",
      " Epoch 29 started...\n"
     ]
    },
    {
     "name": "stderr",
     "output_type": "stream",
     "text": [
      "100%|█████████████████████████████| 2463/2463 [03:15<00:00, 12.62it/s]"
     ]
    },
    {
     "name": "stdout",
     "output_type": "stream",
     "text": [
      " [Epoch 29] Avg Training Loss: 0.0101\n"
     ]
    },
    {
     "name": "stderr",
     "output_type": "stream",
     "text": [
      "\n"
     ]
    },
    {
     "name": "stdout",
     "output_type": "stream",
     "text": [
      "[Epoch 29] Validation IoU: 0.8004\n",
      "\n",
      " Epoch 30 started...\n"
     ]
    },
    {
     "name": "stderr",
     "output_type": "stream",
     "text": [
      "100%|█████████████████████████████| 2463/2463 [03:13<00:00, 12.74it/s]"
     ]
    },
    {
     "name": "stdout",
     "output_type": "stream",
     "text": [
      " [Epoch 30] Avg Training Loss: 0.0100\n"
     ]
    },
    {
     "name": "stderr",
     "output_type": "stream",
     "text": [
      "\n"
     ]
    },
    {
     "name": "stdout",
     "output_type": "stream",
     "text": [
      "[Epoch 30] Validation IoU: 0.7997\n",
      "\n",
      " Training finished. Best IoU: 0.8034\n",
      " Mean Validation IoU across all epochs: 0.7870\n"
     ]
    }
   ],
   "source": [
    "train_model(epochs=30)"
   ]
  },
  {
   "cell_type": "markdown",
   "id": "e0fa285f-7892-48c7-bbfd-a7ad0b23d6a3",
   "metadata": {},
   "source": [
    "## U-Net Test"
   ]
  },
  {
   "cell_type": "code",
   "execution_count": 7,
   "id": "07f08f50-04f9-4bc7-991f-915005cdfb59",
   "metadata": {},
   "outputs": [],
   "source": [
    "# Test\n",
    "import torch\n",
    "import numpy as np\n",
    "\n",
    "# Dice Score Function\n",
    "def dice_score(pred, target, num_classes=5):\n",
    "    dices = []\n",
    "    for cls in range(1, num_classes):  # skip background\n",
    "        pred_cls = (pred == cls).float()\n",
    "        target_cls = (target == cls).float()\n",
    "        intersection = (pred_cls * target_cls).sum()\n",
    "        union = pred_cls.sum() + target_cls.sum()\n",
    "        dice = (2 * intersection + 1e-6) / (union + 1e-6)\n",
    "        dices.append(dice.item())\n",
    "    return np.mean(dices)\n",
    "\n",
    "# IoU Score Function\n",
    "def iou_score(pred, target, num_classes=5):\n",
    "    ious = []\n",
    "    for cls in range(1, num_classes):  # skip background\n",
    "        pred_cls = (pred == cls)\n",
    "        target_cls = (target == cls)\n",
    "        intersection = (pred_cls & target_cls).sum().item()\n",
    "        union = (pred_cls | target_cls).sum().item()\n",
    "        ious.append(intersection / union if union != 0 else 1.0)\n",
    "    return np.mean(ious)\n",
    "\n",
    "# Load Best Model\n",
    "model.load_state_dict(torch.load(\"best_model.pth\", map_location=device))\n",
    "model.eval()\n",
    "\n",
    "# Run Test \n",
    "def test_model(test_loader):\n",
    "    test_ious = []\n",
    "    test_dices = []\n",
    "\n",
    "    with torch.no_grad():\n",
    "        for x, y in test_loader:\n",
    "            x, y = x.to(device), y.to(device)\n",
    "            out = model(x)\n",
    "            pred = torch.argmax(out, dim=1)\n",
    "            for p, t in zip(pred, y):\n",
    "                test_ious.append(iou_score(p.cpu(), t.cpu()))\n",
    "                test_dices.append(dice_score(p.cpu(), t.cpu()))\n",
    "\n",
    "    mean_iou = np.mean(test_ious)\n",
    "    mean_dice = np.mean(test_dices)\n",
    "    print(f\"✅ Test IoU:   {mean_iou:.4f}\")\n",
    "    print(f\"✅ Test Dice:  {mean_dice:.4f}\")"
   ]
  },
  {
   "cell_type": "code",
   "execution_count": 8,
   "id": "d573e3b9-0012-426a-a35b-58321943c8d7",
   "metadata": {},
   "outputs": [
    {
     "name": "stdout",
     "output_type": "stream",
     "text": [
      "✅ Test IoU:   0.8034\n",
      "✅ Test Dice:  0.8733\n"
     ]
    }
   ],
   "source": [
    "test_model(test_loader)"
   ]
  },
  {
   "cell_type": "markdown",
   "id": "33a88ecb-a401-489b-aaac-be8d6f8c7c81",
   "metadata": {},
   "source": [
    "## U-Net Visualization"
   ]
  }
 ],
 "metadata": {
  "kernelspec": {
   "display_name": "myenv",
   "language": "python",
   "name": "python3"
  },
  "language_info": {
   "codemirror_mode": {
    "name": "ipython",
    "version": 3
   },
   "file_extension": ".py",
   "mimetype": "text/x-python",
   "name": "python",
   "nbconvert_exporter": "python",
   "pygments_lexer": "ipython3",
   "version": "3.10.12"
  }
 },
 "nbformat": 4,
 "nbformat_minor": 5
}
